{
 "cells": [
  {
   "cell_type": "markdown",
   "metadata": {},
   "source": [
    "# The bars of Gangelt: Bayesian analysis of the Infection Fatality Rate in Gangelt, and a simple extrapolation to infection-counts in Germany\n",
    "\n",
    "(Miscellaneous text and maths notes, initiated by Jakob. Feel free to copy paste for the notebook we use, some of it we might want to exclude or put in an appendix or supplement. )\n",
    "\n",
    "general text now on google doc and deleted here for clarity: \n",
    "\n",
    "https://docs.google.com/document/d/1XbVFrzOmm0I0tgdoXTC3jgy3rqf9GZb_Hni54UESBbs/edit\n",
    "\n",
    "Stuff we mgiht want to read:\n",
    "https://www.ons.gov.uk/peoplepopulationandcommunity/healthandsocialcare/conditionsanddiseases/bulletins/coronaviruscovid19infectionsurvey/england10may2020"
   ]
  },
  {
   "cell_type": "markdown",
   "metadata": {},
   "source": [
    "## A Bayesian model of infections and fatalities in Gangelt\n",
    "\n"
   ]
  },
  {
   "cell_type": "markdown",
   "metadata": {},
   "source": [
    "[might be a bit long and dry]\n",
    "\n",
    "We concentrate on estimation of the infection fatality rate (IFR) $\\lambda$ in Gangelt, and in a second step we extrapolate to infection-counts in Germany.\n",
    "\n",
    "For the infection rate $\\theta$ in Gangelt, we simply follow the results by Streeck et al 2020, i.e. we do not provide a separate Bayesian analysis for it (see e.g. https://statmodeling.stat.columbia.edu/2020/05/01/simple-bayesian-analysis-inference-of-coronavirus-infection-rate-from-the-stanford-study-in-santa-clara-county/ for a Bayesian analysis of an infection rate of another study). In Streeck et al, the infection rate $\\theta$ is estimated as 0.1553 with confidence intervals (0.1231, 0.1896). To preserve this uncertainty estimate, we assume the infection rate to follow a Beta distribution with parameters $\\alpha_\\theta$ and $\\beta_\\theta$ which are chosen such that this prior has the same mean and variance, i.e.\n",
    "\n",
    "$$\\theta \\sim \\mbox{Beta}(\\alpha_\\theta = ?, \\beta_\\theta = ?),$$ using the fact that \n",
    "\n",
    "$ \\mbox{E}(\\theta) = \\frac{\\alpha_\\theta}{\\alpha_\\theta+\\beta_\\theta}$ and $\\mbox{Var}(\\theta) = \\frac{\\alpha_\\theta \\beta_\\theta}{(\\alpha_\\theta + \\beta_\\theta)^2(\\alpha_\\theta + \\beta_\\theta+1)}$."
   ]
  },
  {
   "cell_type": "code",
   "execution_count": 14,
   "metadata": {},
   "outputs": [],
   "source": [
    "# we could include a little plot here if we want?"
   ]
  },
  {
   "cell_type": "markdown",
   "metadata": {},
   "source": [
    "We assume that the infection rate in Gangelt can be modelled as a Beta distribution with parameters $\\alpha_\\theta$ and $\\beta_\\theta$ which are chosen such that this prior has the desired mean and variance, using the fact that \n",
    "\n",
    "$ \\mbox{E}(\\theta) = \\frac{\\alpha_\\theta}{\\alpha_\\theta+\\beta_\\theta}$ and $\\mbox{Var}(\\theta) = \\frac{\\alpha_\\theta \\beta_\\theta}{(\\alpha_\\theta + \\beta_\\theta)^2(\\alpha_\\theta + \\beta_\\theta+1)}$.\n",
    "\n",
    "We assume that infections in Gangelt occur independently from each other at an infection rate $\\theta$, i.e. that the total infection count $I_G$ (for fixed $\\theta$) is given by a binomial distribution,\n",
    "\n",
    "$$ I_G | \\theta \\sim \\mbox{Binomial}(n_G,\\theta)$$,\n",
    "\n",
    "where $N_G$ is the total number of inhabitants in Gangelt, $n_G=?$. Averaged over the uncertainty in the infection rate, this results in the infection count in Gangelt given by a beta-binomial-distribution, \n",
    "\n",
    "$$ I_G \\sim \\mbox{BetaBinomial}(n_G, \\alpha_\\theta,\\beta_\\theta  )$$."
   ]
  },
  {
   "cell_type": "markdown",
   "metadata": {},
   "source": [
    "We assume that, amongst infected individuals, fatalities occur independently at infection fatality rate $\\lambda$, i.e. \n",
    "\n",
    "$$ F_G | I_G \\sim \\mbox{Binomial}(I_G, \\lambda)$$, \n",
    "\n",
    "which (marginalized over $I_G$) yields a likelihood $P(F_G=f_G| \\lambda$), with observed fatality-count $f_G= 7$.\n",
    "\n",
    "Thus, the likelihood corresponds to a \"thinned\" beta-binomial distribution (while we did not work out its distributional form, see Wiuff & Stumpf 2006 for a discussion of which distributinos are closed under binomial subsampling). \n",
    "\n",
    "[Note Jakob: I am not sure what the functional form of the likelihood is, to be honest-- I dont think that a 'thinned' beta-binomial distribution is still beta-binomial, but honestly I dont quite know. Based on Wiuf and Stumpf 2006, it does not look like the beta-binomial distribution is closed under binomial subsampling-- it is not listed but I also did not work through their conditions. Need to veryfiy or word carefully. Maybe someone can look into this? Matthias? See below]"
   ]
  },
  {
   "cell_type": "markdown",
   "metadata": {},
   "source": [
    "Finally, we need a prior distribution over $\\lambda$. We choose a Beta-distribution with parameters $\\alpha_\\lambda$ and $\\beta_\\lambda$, \n",
    "\n",
    "$$ \\lambda \\sim \\mbox{Beta}(\\alpha_\\lambda,\\beta_\\lambda)$$.\n",
    "\n",
    "We choose these parameters such that the prior has a mean of $??$, and a variance of $??$, resulting in $\\alpha_\\lambda =??$ and $\\beta_\\lambda = ??$. We believe that this provides a reasonable description assuming prior studies in ? and ?, and with a prior variance chosen large enough to not overly constrain the resulting inference. Below, we provide an empirical exploration of how strongly the inference results will be affected if one had chosen different priors, and, using this notebook, it is furthermore possible to further explore different choices of the prior. "
   ]
  },
  {
   "cell_type": "markdown",
   "metadata": {},
   "source": [
    "Lots of results to be described..."
   ]
  },
  {
   "cell_type": "markdown",
   "metadata": {},
   "source": [
    "## Two approximate, simpler likelihoods"
   ]
  },
  {
   "cell_type": "markdown",
   "metadata": {},
   "source": [
    "[I really like these, but we might want to discuss the actual derivations in an appendix to keep the flow. This section is unfinished, so skip it for now.]\n",
    "\n",
    "The model describe above provides a simple, yet arguably reasonable generative model of how observed infections and fatalities are related to the underlying infection- and fatality rates. However, Bayesian inference over $\\lambda_G$ is complicated by the fact that we do not have a closed-form likelihood, but have to numerically average over $I_G$$. We here provide two approximate models which lead to slightly simpler calculations-- as we will show [hopefully...], the resulting inferences are basically unchanged: "
   ]
  },
  {
   "cell_type": "markdown",
   "metadata": {},
   "source": [
    "### Approximating the fatality count by a beta-binomial model\n",
    "\n",
    "The fatality-count is given by a beta-binomial count under binomial subsampling-- this will, in general, not result in another beta-binomial model (see Wiuf and Stumpf 2006), but it is reasonable to approximate it by a beta-binomial distribution with the same mean and variance. To derive the mean and variance of $F_G$, note that it can be modelled as a random sum of Bernoulli random variables, i.e. \n",
    "$ F_G = \\sum_{i=1}^{I_G} B_i$, where $B_i \\sim \\mbox{Bernoulli}(\\lambda)$. Thus, \n",
    "\n",
    "$$E(F_G) = E(I_G)*\\lambda $$ \n",
    "and \n",
    "$$\\mbox{Var}(F_G)= \\mbox{E}(\\mbox{Var}(F_G| I_G)) + \\mbox{Var}(\\mbox{E}(F_G| I_G)) = \\lambda(1-\\lambda)\\mbox{E}(\\theta) + \\lambda^2 \\mbox{Var}(I_G) $$, \n",
    "\n",
    "where $\\mbox{E}(I_G)$ and $\\mbox{Var}(I_G)$ are given by the mean and variance of a beta binomial distribution. Thus, having derived the mean and variance of $F_G$, one can approximate the fatality-count distribution by a beta binomial with matching moments. \n",
    "\n",
    "[Somoene would need to check the equations, probably at least one error in it,  and also implement the moment matching, but then we have a simply likelihood which I would guess is very close to the true one. There is even a chance it is identical, in which case of course we need to reword the above...]\n"
   ]
  },
  {
   "cell_type": "markdown",
   "metadata": {},
   "source": [
    "### Approximating the infection count by a negative-binomial model\n",
    "\n",
    "The second approximation [which I am yet to work out]  exploits  the fact that the infection count is expected to be substantially lower than the total population size-- in this limit one can approximate the beta-binomial distribution by a negative binomial one, and as the negative binomial distribution is closed under binomial subsampling, the distribution of the fatality count is also negative binomial... one could either use this as a closed-form likelihood, or (possibly) even calculate the posterior analytically."
   ]
  },
  {
   "cell_type": "markdown",
   "metadata": {},
   "source": [
    "The pmf of the Beta-Binomial model is given by \n",
    "$$ P(k=k | \\alpha, \\beta, n) = {n \\choose k} \\frac{B(k+\\alpha, n-k+\\alpha)}{B(\\alpha,\\beta)}$$\n",
    "\n",
    "For large $\\beta$, the Beta-function can be approximated by \n",
    "\n",
    "$$ B(\\alpha,\\beta) = \\Gamma(\\alpha) \\beta^{-\\alpha}$$\n",
    "\n",
    "So, "
   ]
  },
  {
   "cell_type": "markdown",
   "metadata": {},
   "source": [
    "The negative-binomial distribution is closed under binomial sampling: \n",
    "If $ X \\sim NB(r,p)$,\n",
    "$$ P(X=k|r,p) = {k+1-r \\choose k} (1-p)^r p^k$$\n",
    "\n",
    "and is subsampled at rate $q$, then the resulting random variable $X'$ is distributed according to \n",
    "$$X' \\sim NB(r,p'),$$ \n",
    "where $$ \\frac{1-p'}{p'}= q\\frac{1-p}{p}$$, i.e.\n",
    "$$ p'= \\frac{p}{p+q-qp}$$"
   ]
  },
  {
   "cell_type": "markdown",
   "metadata": {},
   "source": [
    "\n",
    "\n",
    "[Well, if we do either or both of these approximations, someone should just check empirically both that these models are indeed close approximations, and that it does not look like they are identical... if that is the case then I am probably wrong and the beta-binomial family is closed under binomial subsampling]. Note that the advantage of having an analytical likelihood is that we can very easily use numerical integration to calculate the posterior, otherwise we have to sum over all possible values of $I_G$, which is also fine but a bit annoying. Also, I just enjoyed working through this, so Matthias please do me the favour of checking whether it makes a difference ;-)"
   ]
  },
  {
   "cell_type": "code",
   "execution_count": null,
   "metadata": {},
   "outputs": [],
   "source": [
    "# play with probability distributions\n"
   ]
  },
  {
   "cell_type": "code",
   "execution_count": null,
   "metadata": {},
   "outputs": [],
   "source": []
  },
  {
   "cell_type": "code",
   "execution_count": null,
   "metadata": {},
   "outputs": [],
   "source": []
  }
 ],
 "metadata": {
  "kernelspec": {
   "display_name": "Python 3",
   "language": "python",
   "name": "python3"
  },
  "language_info": {
   "codemirror_mode": {
    "name": "ipython",
    "version": 3
   },
   "file_extension": ".py",
   "mimetype": "text/x-python",
   "name": "python",
   "nbconvert_exporter": "python",
   "pygments_lexer": "ipython3",
   "version": "3.7.4"
  }
 },
 "nbformat": 4,
 "nbformat_minor": 2
}
